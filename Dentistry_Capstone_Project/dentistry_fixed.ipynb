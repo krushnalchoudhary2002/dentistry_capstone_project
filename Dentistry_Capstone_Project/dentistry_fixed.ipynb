{
 "cells": [
  {
   "cell_type": "code",
   "execution_count": 29,
   "id": "75e13cc8-998f-4efa-b4d3-1e49b4e0de4a",
   "metadata": {},
   "outputs": [
    {
     "name": "stdout",
     "output_type": "stream",
     "text": [
      "   Sl No  Sample ID  Age  Gender  inter canine distance intraoral  \\\n",
      "0      1        NaN   24  Female                            25.06   \n",
      "1      2        NaN   22  Female                            25.78   \n",
      "2      3        NaN   23  Female                            23.83   \n",
      "3      4        NaN   20  Female                            26.12   \n",
      "4      5        NaN   20  Female                            26.36   \n",
      "\n",
      "   intercanine distance casts  right canine width intraoral  \\\n",
      "0                       25.05                          6.08   \n",
      "1                       25.79                          6.13   \n",
      "2                       23.83                          5.91   \n",
      "3                       26.12                          6.08   \n",
      "4                       26.41                          6.09   \n",
      "\n",
      "   right canine width casts  left canine width intraoral  \\\n",
      "0                      6.08                         6.09   \n",
      "1                      6.13                         6.33   \n",
      "2                      5.96                         6.28   \n",
      "3                      6.08                         6.56   \n",
      "4                      6.09                         6.50   \n",
      "\n",
      "   left canine width casts  right canine index intra oral  \\\n",
      "0                     6.10                          0.242   \n",
      "1                     6.33                          0.237   \n",
      "2                     6.28                          0.248   \n",
      "3                     6.56                          0.232   \n",
      "4                     6.50                          0.231   \n",
      "\n",
      "   right canine index casts  left canine index intraoral  \\\n",
      "0                     0.242                        0.242   \n",
      "1                     0.237                        0.247   \n",
      "2                     0.248                        0.264   \n",
      "3                     0.232                        0.250   \n",
      "4                     0.231                        0.246   \n",
      "\n",
      "   left canine index casts  \n",
      "0                    0.241  \n",
      "1                    0.247  \n",
      "2                    0.264  \n",
      "3                    0.250  \n",
      "4                    0.246  \n"
     ]
    }
   ],
   "source": [
    "import pandas as pd\n",
    "\n",
    "# Load dataset\n",
    "df = pd.read_csv(\"Dentistry_Dataset.csv\")\n",
    "\n",
    "# Display first few rows\n",
    "print(df.head())\n"
   ]
  },
  {
   "cell_type": "code",
   "execution_count": 30,
   "id": "81f66ce9-6f42-47ac-9397-da2e302397c1",
   "metadata": {},
   "outputs": [
    {
     "name": "stdout",
     "output_type": "stream",
     "text": [
      "<class 'pandas.core.frame.DataFrame'>\n",
      "RangeIndex: 1100 entries, 0 to 1099\n",
      "Data columns (total 14 columns):\n",
      " #   Column                           Non-Null Count  Dtype  \n",
      "---  ------                           --------------  -----  \n",
      " 0   Sl No                            1100 non-null   int64  \n",
      " 1   Sample ID                        0 non-null      float64\n",
      " 2   Age                              1100 non-null   int64  \n",
      " 3   Gender                           1100 non-null   object \n",
      " 4   inter canine distance intraoral  1100 non-null   float64\n",
      " 5   intercanine distance casts       1100 non-null   float64\n",
      " 6   right canine width intraoral     1100 non-null   float64\n",
      " 7   right canine width casts         1100 non-null   float64\n",
      " 8   left canine width intraoral      1100 non-null   float64\n",
      " 9   left canine width casts          1100 non-null   float64\n",
      " 10  right canine index intra oral    1100 non-null   float64\n",
      " 11  right canine index casts         1100 non-null   float64\n",
      " 12  left canine index intraoral      1100 non-null   float64\n",
      " 13  left canine index casts          1100 non-null   float64\n",
      "dtypes: float64(11), int64(2), object(1)\n",
      "memory usage: 116.1+ KB\n",
      "None\n",
      "             Sl No  Sample ID          Age  inter canine distance intraoral  \\\n",
      "count  1100.000000        0.0  1100.000000                      1100.000000   \n",
      "mean    550.500000        NaN    21.625455                        25.989009   \n",
      "std     317.686953        NaN     2.085892                         1.315292   \n",
      "min       1.000000        NaN    18.000000                        23.120000   \n",
      "25%     275.750000        NaN    20.000000                        25.000000   \n",
      "50%     550.500000        NaN    22.000000                        25.900000   \n",
      "75%     825.250000        NaN    23.000000                        26.992500   \n",
      "max    1100.000000        NaN    25.000000                        30.310000   \n",
      "\n",
      "       intercanine distance casts  right canine width intraoral  \\\n",
      "count                 1100.000000                   1100.000000   \n",
      "mean                    25.880082                      6.563000   \n",
      "std                      1.862323                      0.379035   \n",
      "min                      6.540000                      5.460000   \n",
      "25%                     24.980000                      6.290000   \n",
      "50%                     25.900000                      6.520000   \n",
      "75%                     27.000000                      6.802500   \n",
      "max                     30.310000                      7.610000   \n",
      "\n",
      "       right canine width casts  left canine width intraoral  \\\n",
      "count               1100.000000                  1100.000000   \n",
      "mean                   6.564491                     6.669627   \n",
      "std                    0.377553                     0.375841   \n",
      "min                    5.460000                     5.460000   \n",
      "25%                    6.300000                     6.400000   \n",
      "50%                    6.520000                     6.660000   \n",
      "75%                    6.802500                     6.910000   \n",
      "max                    7.600000                     7.810000   \n",
      "\n",
      "       left canine width casts  right canine index intra oral  \\\n",
      "count              1100.000000                    1100.000000   \n",
      "mean                  6.675018                       0.253122   \n",
      "std                   0.377098                       0.015344   \n",
      "min                   5.460000                       0.223000   \n",
      "25%                   6.407500                       0.242000   \n",
      "50%                   6.680000                       0.253000   \n",
      "75%                   6.920000                       0.262000   \n",
      "max                   7.810000                       0.363000   \n",
      "\n",
      "       right canine index casts  left canine index intraoral  \\\n",
      "count               1100.000000                  1100.000000   \n",
      "mean                   0.252355                     0.256453   \n",
      "std                    0.012892                     0.012355   \n",
      "min                    0.223000                     0.223000   \n",
      "25%                    0.242000                     0.247000   \n",
      "50%                    0.253000                     0.255000   \n",
      "75%                    0.261250                     0.264250   \n",
      "max                    0.302000                     0.305000   \n",
      "\n",
      "       left canine index casts  \n",
      "count              1100.000000  \n",
      "mean                  0.256361  \n",
      "std                   0.012374  \n",
      "min                   0.223000  \n",
      "25%                   0.247000  \n",
      "50%                   0.255000  \n",
      "75%                   0.264000  \n",
      "max                   0.304000  \n"
     ]
    }
   ],
   "source": [
    "print(df.info())  # Check data types and missing values\n",
    "print(df.describe())  # Summary statistics\n"
   ]
  },
  {
   "cell_type": "code",
   "execution_count": 31,
   "id": "da57fe51-0532-4e1d-8bc8-817761a559e4",
   "metadata": {},
   "outputs": [
    {
     "name": "stdout",
     "output_type": "stream",
     "text": [
      "Sl No                                 0\n",
      "Sample ID                          1100\n",
      "Age                                   0\n",
      "Gender                                0\n",
      "inter canine distance intraoral       0\n",
      "intercanine distance casts            0\n",
      "right canine width intraoral          0\n",
      "right canine width casts              0\n",
      "left canine width intraoral           0\n",
      "left canine width casts               0\n",
      "right canine index intra oral         0\n",
      "right canine index casts              0\n",
      "left canine index intraoral           0\n",
      "left canine index casts               0\n",
      "dtype: int64\n"
     ]
    }
   ],
   "source": [
    "print(df.isnull().sum())  # Count missing values in each column\n"
   ]
  },
  {
   "cell_type": "code",
   "execution_count": 32,
   "id": "d61b9eea-daea-4ce2-9342-4d76efdf3b7d",
   "metadata": {},
   "outputs": [
    {
     "name": "stdout",
     "output_type": "stream",
     "text": [
      "0\n"
     ]
    }
   ],
   "source": [
    "print(df['Gender'].isnull().sum())  # Count missing values\n"
   ]
  },
  {
   "cell_type": "code",
   "execution_count": 33,
   "id": "e1cd5549-b657-4517-bf20-e674337462d2",
   "metadata": {},
   "outputs": [
    {
     "name": "stdout",
     "output_type": "stream",
     "text": [
      "Index(['Sl No', 'Sample ID', 'Age', 'Gender',\n",
      "       'inter canine distance intraoral', 'intercanine distance casts',\n",
      "       'right canine width intraoral', 'right canine width casts',\n",
      "       'left canine width intraoral', 'left canine width casts',\n",
      "       'right canine index intra oral', 'right canine index casts',\n",
      "       'left canine index intraoral', 'left canine index casts'],\n",
      "      dtype='object')\n"
     ]
    }
   ],
   "source": [
    "print(df.columns)  # Check if 'Gender' is spelled correctly\n"
   ]
  }
 ],
 "metadata": {
  "kernelspec": {
   "display_name": "Python (Pyodide)",
   "language": "python",
   "name": "python"
  },
  "language_info": {
   "codemirror_mode": {
    "name": "python",
    "version": 3
   },
   "file_extension": ".py",
   "mimetype": "text/x-python",
   "name": "python",
   "nbconvert_exporter": "python",
   "pygments_lexer": "ipython3",
   "version": "3.8"
  }
 },
 "nbformat": 4,
 "nbformat_minor": 5
}
